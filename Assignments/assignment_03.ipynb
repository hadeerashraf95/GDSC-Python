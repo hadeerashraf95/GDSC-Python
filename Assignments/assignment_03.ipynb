{
 "cells": [
  {
   "cell_type": "markdown",
   "id": "7811d8c1-c32d-4425-b8bc-7bbcc87c3b7c",
   "metadata": {},
   "source": [
    "### Add parentheses where necessary so that each of the following expressions evaluates to True:"
   ]
  },
  {
   "cell_type": "code",
   "execution_count": 2,
   "id": "dddff37c-2d46-4b8a-ac69-8ba00f65790c",
   "metadata": {
    "tags": []
   },
   "outputs": [
    {
     "data": {
      "text/plain": [
       "True"
      ]
     },
     "execution_count": 2,
     "metadata": {},
     "output_type": "execute_result"
    }
   ],
   "source": [
    "# TODO\n",
    "False == (not True)"
   ]
  },
  {
   "cell_type": "code",
   "execution_count": 3,
   "id": "10710a5c-e022-4871-b893-6465b2219e6d",
   "metadata": {
    "tags": []
   },
   "outputs": [
    {
     "data": {
      "text/plain": [
       "True"
      ]
     },
     "execution_count": 3,
     "metadata": {},
     "output_type": "execute_result"
    }
   ],
   "source": [
    "# TODO\n",
    "(True and False) ==(True and False)"
   ]
  },
  {
   "cell_type": "code",
   "execution_count": 5,
   "id": "2c3d46ac-83cc-4d66-973b-9c93686fec0d",
   "metadata": {},
   "outputs": [
    {
     "data": {
      "text/plain": [
       "True"
      ]
     },
     "execution_count": 5,
     "metadata": {},
     "output_type": "execute_result"
    }
   ],
   "source": [
    "# TODO\n",
    "not (True and \"A\") == \"B\""
   ]
  },
  {
   "cell_type": "code",
   "execution_count": 7,
   "id": "e77e4831-3881-47fb-8308-f00146c4e5bb",
   "metadata": {
    "tags": []
   },
   "outputs": [
    {
     "data": {
      "text/plain": [
       "True"
      ]
     },
     "execution_count": 7,
     "metadata": {},
     "output_type": "execute_result"
    }
   ],
   "source": [
    "# TODO\n",
    "False == False in [False] "
   ]
  },
  {
   "cell_type": "code",
   "execution_count": 8,
   "id": "3542325a-026e-42d6-930d-2fb13e8cc0ac",
   "metadata": {},
   "outputs": [
    {
     "data": {
      "text/plain": [
       "True"
      ]
     },
     "execution_count": 8,
     "metadata": {},
     "output_type": "execute_result"
    }
   ],
   "source": [
    "# TODO\n",
    "(1 == 2 )== 0"
   ]
  },
  {
   "cell_type": "markdown",
   "id": "ff7a7e87-e763-4c1b-b9a5-e105432cbf57",
   "metadata": {},
   "source": [
    "### Construct a list of numbers from `1` to `1000`, then use `len()` function to assert the list length."
   ]
  },
  {
   "cell_type": "code",
   "execution_count": 9,
   "id": "9ef39256-6463-4777-9b05-b6cc090a94ad",
   "metadata": {
    "tags": []
   },
   "outputs": [
    {
     "name": "stdout",
     "output_type": "stream",
     "text": [
      "[1, 2, 3, 4, 5, 6, 7, 8, 9, 10, 11, 12, 13, 14, 15, 16, 17, 18, 19, 20, 21, 22, 23, 24, 25, 26, 27, 28, 29, 30, 31, 32, 33, 34, 35, 36, 37, 38, 39, 40, 41, 42, 43, 44, 45, 46, 47, 48, 49, 50, 51, 52, 53, 54, 55, 56, 57, 58, 59, 60, 61, 62, 63, 64, 65, 66, 67, 68, 69, 70, 71, 72, 73, 74, 75, 76, 77, 78, 79, 80, 81, 82, 83, 84, 85, 86, 87, 88, 89, 90, 91, 92, 93, 94, 95, 96, 97, 98, 99, 100, 101, 102, 103, 104, 105, 106, 107, 108, 109, 110, 111, 112, 113, 114, 115, 116, 117, 118, 119, 120, 121, 122, 123, 124, 125, 126, 127, 128, 129, 130, 131, 132, 133, 134, 135, 136, 137, 138, 139, 140, 141, 142, 143, 144, 145, 146, 147, 148, 149, 150, 151, 152, 153, 154, 155, 156, 157, 158, 159, 160, 161, 162, 163, 164, 165, 166, 167, 168, 169, 170, 171, 172, 173, 174, 175, 176, 177, 178, 179, 180, 181, 182, 183, 184, 185, 186, 187, 188, 189, 190, 191, 192, 193, 194, 195, 196, 197, 198, 199, 200, 201, 202, 203, 204, 205, 206, 207, 208, 209, 210, 211, 212, 213, 214, 215, 216, 217, 218, 219, 220, 221, 222, 223, 224, 225, 226, 227, 228, 229, 230, 231, 232, 233, 234, 235, 236, 237, 238, 239, 240, 241, 242, 243, 244, 245, 246, 247, 248, 249, 250, 251, 252, 253, 254, 255, 256, 257, 258, 259, 260, 261, 262, 263, 264, 265, 266, 267, 268, 269, 270, 271, 272, 273, 274, 275, 276, 277, 278, 279, 280, 281, 282, 283, 284, 285, 286, 287, 288, 289, 290, 291, 292, 293, 294, 295, 296, 297, 298, 299, 300, 301, 302, 303, 304, 305, 306, 307, 308, 309, 310, 311, 312, 313, 314, 315, 316, 317, 318, 319, 320, 321, 322, 323, 324, 325, 326, 327, 328, 329, 330, 331, 332, 333, 334, 335, 336, 337, 338, 339, 340, 341, 342, 343, 344, 345, 346, 347, 348, 349, 350, 351, 352, 353, 354, 355, 356, 357, 358, 359, 360, 361, 362, 363, 364, 365, 366, 367, 368, 369, 370, 371, 372, 373, 374, 375, 376, 377, 378, 379, 380, 381, 382, 383, 384, 385, 386, 387, 388, 389, 390, 391, 392, 393, 394, 395, 396, 397, 398, 399, 400, 401, 402, 403, 404, 405, 406, 407, 408, 409, 410, 411, 412, 413, 414, 415, 416, 417, 418, 419, 420, 421, 422, 423, 424, 425, 426, 427, 428, 429, 430, 431, 432, 433, 434, 435, 436, 437, 438, 439, 440, 441, 442, 443, 444, 445, 446, 447, 448, 449, 450, 451, 452, 453, 454, 455, 456, 457, 458, 459, 460, 461, 462, 463, 464, 465, 466, 467, 468, 469, 470, 471, 472, 473, 474, 475, 476, 477, 478, 479, 480, 481, 482, 483, 484, 485, 486, 487, 488, 489, 490, 491, 492, 493, 494, 495, 496, 497, 498, 499, 500, 501, 502, 503, 504, 505, 506, 507, 508, 509, 510, 511, 512, 513, 514, 515, 516, 517, 518, 519, 520, 521, 522, 523, 524, 525, 526, 527, 528, 529, 530, 531, 532, 533, 534, 535, 536, 537, 538, 539, 540, 541, 542, 543, 544, 545, 546, 547, 548, 549, 550, 551, 552, 553, 554, 555, 556, 557, 558, 559, 560, 561, 562, 563, 564, 565, 566, 567, 568, 569, 570, 571, 572, 573, 574, 575, 576, 577, 578, 579, 580, 581, 582, 583, 584, 585, 586, 587, 588, 589, 590, 591, 592, 593, 594, 595, 596, 597, 598, 599, 600, 601, 602, 603, 604, 605, 606, 607, 608, 609, 610, 611, 612, 613, 614, 615, 616, 617, 618, 619, 620, 621, 622, 623, 624, 625, 626, 627, 628, 629, 630, 631, 632, 633, 634, 635, 636, 637, 638, 639, 640, 641, 642, 643, 644, 645, 646, 647, 648, 649, 650, 651, 652, 653, 654, 655, 656, 657, 658, 659, 660, 661, 662, 663, 664, 665, 666, 667, 668, 669, 670, 671, 672, 673, 674, 675, 676, 677, 678, 679, 680, 681, 682, 683, 684, 685, 686, 687, 688, 689, 690, 691, 692, 693, 694, 695, 696, 697, 698, 699, 700, 701, 702, 703, 704, 705, 706, 707, 708, 709, 710, 711, 712, 713, 714, 715, 716, 717, 718, 719, 720, 721, 722, 723, 724, 725, 726, 727, 728, 729, 730, 731, 732, 733, 734, 735, 736, 737, 738, 739, 740, 741, 742, 743, 744, 745, 746, 747, 748, 749, 750, 751, 752, 753, 754, 755, 756, 757, 758, 759, 760, 761, 762, 763, 764, 765, 766, 767, 768, 769, 770, 771, 772, 773, 774, 775, 776, 777, 778, 779, 780, 781, 782, 783, 784, 785, 786, 787, 788, 789, 790, 791, 792, 793, 794, 795, 796, 797, 798, 799, 800, 801, 802, 803, 804, 805, 806, 807, 808, 809, 810, 811, 812, 813, 814, 815, 816, 817, 818, 819, 820, 821, 822, 823, 824, 825, 826, 827, 828, 829, 830, 831, 832, 833, 834, 835, 836, 837, 838, 839, 840, 841, 842, 843, 844, 845, 846, 847, 848, 849, 850, 851, 852, 853, 854, 855, 856, 857, 858, 859, 860, 861, 862, 863, 864, 865, 866, 867, 868, 869, 870, 871, 872, 873, 874, 875, 876, 877, 878, 879, 880, 881, 882, 883, 884, 885, 886, 887, 888, 889, 890, 891, 892, 893, 894, 895, 896, 897, 898, 899, 900, 901, 902, 903, 904, 905, 906, 907, 908, 909, 910, 911, 912, 913, 914, 915, 916, 917, 918, 919, 920, 921, 922, 923, 924, 925, 926, 927, 928, 929, 930, 931, 932, 933, 934, 935, 936, 937, 938, 939, 940, 941, 942, 943, 944, 945, 946, 947, 948, 949, 950, 951, 952, 953, 954, 955, 956, 957, 958, 959, 960, 961, 962, 963, 964, 965, 966, 967, 968, 969, 970, 971, 972, 973, 974, 975, 976, 977, 978, 979, 980, 981, 982, 983, 984, 985, 986, 987, 988, 989, 990, 991, 992, 993, 994, 995, 996, 997, 998, 999, 1000]\n"
     ]
    }
   ],
   "source": [
    "# TODO\n",
    "nums_list = list(range(1,1001))\n",
    "print(nums_list) "
   ]
  },
  {
   "cell_type": "code",
   "execution_count": 10,
   "id": "c3f8db70-5e81-4082-bb51-2975cf031674",
   "metadata": {},
   "outputs": [
    {
     "data": {
      "text/plain": [
       "1000"
      ]
     },
     "execution_count": 10,
     "metadata": {},
     "output_type": "execute_result"
    }
   ],
   "source": [
    "# TODO\n",
    "len(nums_list)"
   ]
  },
  {
   "cell_type": "markdown",
   "id": "db8390b9-2570-48d2-8431-ac98ac31a04e",
   "metadata": {},
   "source": [
    "### Subset the first 50 numbers from `nums_list` into another list and assign it to `sliced`."
   ]
  },
  {
   "cell_type": "code",
   "execution_count": 11,
   "id": "ecff77a0-5b7e-45c9-addc-72daa56b151d",
   "metadata": {},
   "outputs": [
    {
     "name": "stdout",
     "output_type": "stream",
     "text": [
      "[1, 2, 3, 4, 5, 6, 7, 8, 9, 10, 11, 12, 13, 14, 15, 16, 17, 18, 19, 20, 21, 22, 23, 24, 25, 26, 27, 28, 29, 30, 31, 32, 33, 34, 35, 36, 37, 38, 39, 40, 41, 42, 43, 44, 45, 46, 47, 48, 49, 50]\n"
     ]
    }
   ],
   "source": [
    "# TODO\n",
    "sliced =list(nums_list[0:50])\n",
    "print(sliced)"
   ]
  },
  {
   "cell_type": "markdown",
   "id": "605501db-ffde-41da-a9c3-eb136f30ff63",
   "metadata": {},
   "source": [
    "### Filter odd and even numbers in `sliced` to `odd_nums_list` and `even_nums_list` respectively."
   ]
  },
  {
   "cell_type": "code",
   "execution_count": 29,
   "id": "5dca7898",
   "metadata": {},
   "outputs": [],
   "source": [
    "# TODO \n",
    "# Instantiate two lists for splitting numbers to odd or even:\n",
    "odd_nums_list = []\n",
    "even_nums_list = []\n",
    "\n",
    "# Iterate over the original list:\n",
    "for num in sliced:\n",
    "    # If number is even append to even_nums_list:\n",
    "    if num % 2 == 0:\n",
    "        even_nums_list.append(num)\n",
    "    # If number is odd append to odd_nums_list:\n",
    "    else:\n",
    "        odd_nums_list.append(num)\n"
   ]
  },
  {
   "cell_type": "code",
   "execution_count": 31,
   "id": "54209b5e",
   "metadata": {},
   "outputs": [
    {
     "data": {
      "text/plain": [
       "[1,\n",
       " 3,\n",
       " 5,\n",
       " 7,\n",
       " 9,\n",
       " 11,\n",
       " 13,\n",
       " 15,\n",
       " 17,\n",
       " 19,\n",
       " 21,\n",
       " 23,\n",
       " 25,\n",
       " 27,\n",
       " 29,\n",
       " 31,\n",
       " 33,\n",
       " 35,\n",
       " 37,\n",
       " 39,\n",
       " 41,\n",
       " 43,\n",
       " 45,\n",
       " 47,\n",
       " 49]"
      ]
     },
     "execution_count": 31,
     "metadata": {},
     "output_type": "execute_result"
    }
   ],
   "source": [
    "odd_nums_list"
   ]
  },
  {
   "cell_type": "code",
   "execution_count": 32,
   "id": "ed6301b3",
   "metadata": {},
   "outputs": [
    {
     "data": {
      "text/plain": [
       "[2,\n",
       " 4,\n",
       " 6,\n",
       " 8,\n",
       " 10,\n",
       " 12,\n",
       " 14,\n",
       " 16,\n",
       " 18,\n",
       " 20,\n",
       " 22,\n",
       " 24,\n",
       " 26,\n",
       " 28,\n",
       " 30,\n",
       " 32,\n",
       " 34,\n",
       " 36,\n",
       " 38,\n",
       " 40,\n",
       " 42,\n",
       " 44,\n",
       " 46,\n",
       " 48,\n",
       " 50]"
      ]
     },
     "execution_count": 32,
     "metadata": {},
     "output_type": "execute_result"
    }
   ],
   "source": [
    "even_nums_list\n",
    "\n"
   ]
  },
  {
   "cell_type": "markdown",
   "id": "ee75f14c-b18b-42d6-ab7a-b5beea9f79f3",
   "metadata": {},
   "source": [
    "### Write a Python program to count Even and Odd numbers in a List:\n",
    "> - Input: `[2, 7, 5, 64, 14]`\n",
    "> - Output: `even` = 3, `odd` = 2"
   ]
  },
  {
   "cell_type": "code",
   "execution_count": 25,
   "id": "615db24f-474e-453c-9048-14aea1c3b9d4",
   "metadata": {
    "tags": []
   },
   "outputs": [],
   "source": [
    "nums_list = [2, 7, 5, 64, 14]"
   ]
  },
  {
   "cell_type": "code",
   "execution_count": 37,
   "id": "42b3f2ea-5a6b-438f-8874-4ae370e09651",
   "metadata": {},
   "outputs": [
    {
     "data": {
      "text/plain": [
       "3"
      ]
     },
     "execution_count": 37,
     "metadata": {},
     "output_type": "execute_result"
    }
   ],
   "source": [
    "# TODO\n",
    "#even_numbers_in_nums_list:\n",
    "even_nums_list=[num for num in nums_list if num % 2==0]\n",
    "\n",
    "#length_of_even_nums_list:\n",
    "len(even_nums_list)"
   ]
  },
  {
   "cell_type": "code",
   "execution_count": 38,
   "id": "0aa6f7fe",
   "metadata": {},
   "outputs": [
    {
     "data": {
      "text/plain": [
       "2"
      ]
     },
     "execution_count": 38,
     "metadata": {},
     "output_type": "execute_result"
    }
   ],
   "source": [
    "# TODO\n",
    "#odd_numbers_in_nums_list:\n",
    "odd_nums_list=[num for num in nums_list if num % 2!=0]\n",
    "\n",
    "#length_of_odd_nums_list:\n",
    "len(odd_nums_list)"
   ]
  },
  {
   "cell_type": "markdown",
   "id": "c6732954-fa9f-4d16-bbb2-8d399709243b",
   "metadata": {},
   "source": [
    "### Use list indexing to determine how many days are in a particular month based on the integer variable `month`, and store that value in the integer variable `num_of_days_per_month`. For example, if `month` is `8`, `num_of_days_per_month` should be set to `31`, since the eighth month, August, has 31 days."
   ]
  },
  {
   "cell_type": "code",
   "execution_count": 35,
   "id": "e9bbf5cb-55ea-40b9-b753-501e1680b7a0",
   "metadata": {},
   "outputs": [],
   "source": [
    "month = 8\n",
    "days_in_month = [31, 28, 31, 30, 31, 30, 31, 31, 30, 31, 30, 31]"
   ]
  },
  {
   "cell_type": "code",
   "execution_count": 39,
   "id": "4348c24e-591f-4db5-a98a-5362fbdd0bed",
   "metadata": {},
   "outputs": [
    {
     "name": "stdout",
     "output_type": "stream",
     "text": [
      "31\n"
     ]
    }
   ],
   "source": [
    "# TODO\n",
    "num_of_days_per_month =days_in_month[month-1]\n",
    "print(num_of_days_per_month)"
   ]
  },
  {
   "cell_type": "markdown",
   "id": "2e51b15e-2d13-4863-aa12-e37c3fea1596",
   "metadata": {},
   "source": [
    "### Return a copy of `dates_list` with the dates sorted in ascending order (without altering the original list)."
   ]
  },
  {
   "cell_type": "code",
   "execution_count": 42,
   "id": "44ea4b55-4078-4fdb-a2d7-9986f6af1470",
   "metadata": {
    "tags": []
   },
   "outputs": [],
   "source": [
    "dates_list = ['1972-07-30',  '2014-03-13', '2018-08-06', '1973-04-16', '1996-07-10',\n",
    "              '2019-02-20', '2012-02-26', '1991-04-07', '2013-05-22', '2019-12-28',\n",
    "              '2010-03-05', '2016-05-16', '1976-01-02', '2005-01-09', '1977-11-09',\n",
    "              '1981-08-12', '1971-08-08', '1988-11-27', '2014-10-16', '2009-12-12']"
   ]
  },
  {
   "cell_type": "code",
   "execution_count": 43,
   "id": "2ad9346d-0d5d-4d7b-b359-9f320417429b",
   "metadata": {},
   "outputs": [
    {
     "data": {
      "text/plain": [
       "['1971-08-08',\n",
       " '1972-07-30',\n",
       " '1973-04-16',\n",
       " '1976-01-02',\n",
       " '1977-11-09',\n",
       " '1981-08-12',\n",
       " '1988-11-27',\n",
       " '1991-04-07',\n",
       " '1996-07-10',\n",
       " '2005-01-09',\n",
       " '2009-12-12',\n",
       " '2010-03-05',\n",
       " '2012-02-26',\n",
       " '2013-05-22',\n",
       " '2014-03-13',\n",
       " '2014-10-16',\n",
       " '2016-05-16',\n",
       " '2018-08-06',\n",
       " '2019-02-20',\n",
       " '2019-12-28']"
      ]
     },
     "execution_count": 43,
     "metadata": {},
     "output_type": "execute_result"
    }
   ],
   "source": [
    "#TODO\n",
    "dates_list_sorted_copy= sorted(dates_list)\n",
    "dates_list_sorted_copy"
   ]
  },
  {
   "cell_type": "markdown",
   "id": "3b2a9f56-2c41-4d5b-a2aa-f22bec906e91",
   "metadata": {},
   "source": [
    "### Select the three most recent dates from `dates_list_sorted_copy` using list slicing notation."
   ]
  },
  {
   "cell_type": "code",
   "execution_count": 44,
   "id": "ccf2be61-eaab-4492-9ca9-c539e9dee6b7",
   "metadata": {},
   "outputs": [
    {
     "data": {
      "text/plain": [
       "['2018-08-06', '2019-02-20', '2019-12-28']"
      ]
     },
     "execution_count": 44,
     "metadata": {},
     "output_type": "execute_result"
    }
   ],
   "source": [
    "# TODO\n",
    "dates_list_sorted_copy[-3:]"
   ]
  },
  {
   "cell_type": "markdown",
   "id": "a1ed757d-f2f1-4f49-91fa-f55b8f3aacb2",
   "metadata": {},
   "source": [
    "### There is something wrong with this code, fix it to return the list `nums_list` sorted in ascending order."
   ]
  },
  {
   "cell_type": "code",
   "execution_count": 45,
   "id": "60d0a6df-9d2a-40d4-b5b3-3621d5d9dd9f",
   "metadata": {
    "tags": []
   },
   "outputs": [
    {
     "data": {
      "text/plain": [
       "[3, 4, 5, 6, 7, 8, 9]"
      ]
     },
     "execution_count": 45,
     "metadata": {},
     "output_type": "execute_result"
    }
   ],
   "source": [
    "# TODO\n",
    "nums_list = [6, 4, 7, 3, 5, 8, 9]\n",
    "nums_list.sort()\n",
    "nums_list"
   ]
  },
  {
   "cell_type": "markdown",
   "id": "c1c83d4e-6958-49e7-b77b-17d6f0686186",
   "metadata": {},
   "source": [
    "### Return a string `names_str` containing names in `names_list` sorted in ascending order and separated by a comma (`,`)."
   ]
  },
  {
   "cell_type": "code",
   "execution_count": 46,
   "id": "14d7d821-0964-4c6b-9539-76fb846db0c0",
   "metadata": {
    "tags": []
   },
   "outputs": [],
   "source": [
    "names_list = ['John Hall', 'Nicole Morrison', 'Matthew Romero', 'Diana Smith']"
   ]
  },
  {
   "cell_type": "code",
   "execution_count": 47,
   "id": "05299978-a8de-44c8-8692-1fb5da2a432b",
   "metadata": {},
   "outputs": [
    {
     "data": {
      "text/plain": [
       "'John Hall,Nicole Morrison,Matthew Romero,Diana Smith'"
      ]
     },
     "execution_count": 47,
     "metadata": {},
     "output_type": "execute_result"
    }
   ],
   "source": [
    "# TODO\n",
    "names_str =\",\".join(names_list)\n",
    "names_str"
   ]
  },
  {
   "cell_type": "markdown",
   "id": "b5a7cc2e-4184-4984-9663-0efb1e647cdd",
   "metadata": {},
   "source": [
    "### Combine these two lists together `[1, 2, 3, 4]` & `[5, 6, 7, 8]` to create a new `nums_list` using three different methods."
   ]
  },
  {
   "cell_type": "code",
   "execution_count": 48,
   "id": "ed80a12a-ea64-4a57-a54a-012ba7d23a88",
   "metadata": {},
   "outputs": [
    {
     "data": {
      "text/plain": [
       "[1, 2, 3, 4, 5, 6, 7, 8]"
      ]
     },
     "execution_count": 48,
     "metadata": {},
     "output_type": "execute_result"
    }
   ],
   "source": [
    "# TODO\n",
    "#by_addition_method:\n",
    "nums_list =[1, 2, 3, 4]\n",
    "nums_list+[5, 6, 7, 8]\n"
   ]
  },
  {
   "cell_type": "code",
   "execution_count": 49,
   "id": "a4e23d55-6e33-4199-a48f-9991b553d1d1",
   "metadata": {},
   "outputs": [
    {
     "data": {
      "text/plain": [
       "[1, 2, 3, 4, 5, 6, 7, 8]"
      ]
     },
     "execution_count": 49,
     "metadata": {},
     "output_type": "execute_result"
    }
   ],
   "source": [
    "# TODO\n",
    "#by_extend_method:\n",
    "nums_list = [1, 2, 3, 4]\n",
    "nums_list.extend([5, 6, 7, 8])\n",
    "nums_list"
   ]
  },
  {
   "cell_type": "code",
   "execution_count": 50,
   "id": "862b602d-4d2e-40a2-988f-d023411ce840",
   "metadata": {},
   "outputs": [
    {
     "name": "stdout",
     "output_type": "stream",
     "text": [
      "[1, 2, 3, 4, 5, 6, 7, 8]\n"
     ]
    }
   ],
   "source": [
    "# TODO\n",
    "nums_list =[1, 2, 3, 4]\n",
    "nums_list_02=[5, 6, 7, 8]\n",
    "for n in nums_list_02:\n",
    "    nums_list.append(n)\n",
    "     \n",
    "print(nums_list)   "
   ]
  },
  {
   "cell_type": "markdown",
   "id": "e8c53fb1-8fec-44fe-8519-801e837b8ac3",
   "metadata": {},
   "source": [
    "### Create a new list `unique_nums_list` that contains non-duplicate elements from `nums_list`."
   ]
  },
  {
   "cell_type": "code",
   "execution_count": 51,
   "id": "bb48439a-409c-441b-a56a-2b196f45522b",
   "metadata": {
    "tags": []
   },
   "outputs": [],
   "source": [
    "nums_list = [1, 4, 5, 2, 4, 5, 4, 6, 7, 6, 8]"
   ]
  },
  {
   "cell_type": "code",
   "execution_count": 52,
   "id": "76766860-7384-4c7e-ae0f-cd9bd1d6f2c9",
   "metadata": {
    "tags": []
   },
   "outputs": [
    {
     "name": "stdout",
     "output_type": "stream",
     "text": [
      "[1, 4, 5, 2, 6, 7, 8]\n"
     ]
    }
   ],
   "source": [
    "# TODO\n",
    "unique_nums_list=[]\n",
    "\n",
    "for n in nums_list:\n",
    "    if n not in unique_nums_list:\n",
    "       unique_nums_list.append(n)\n",
    "print(unique_nums_list)       \n"
   ]
  },
  {
   "cell_type": "markdown",
   "id": "73f8ab54-009d-4499-a0d6-36659f667692",
   "metadata": {},
   "source": [
    "### Modify the following code so that `nums_list_01` and `nums_list_02` are two different objects."
   ]
  },
  {
   "cell_type": "code",
   "execution_count": 53,
   "id": "fa8264aa-ef39-477e-ba53-26a000980a48",
   "metadata": {},
   "outputs": [],
   "source": [
    "# TODO\n",
    "nums_list_01 = [1, 2, 3, 4]\n",
    "nums_list_02 = [1, 2, 3, 4]"
   ]
  },
  {
   "cell_type": "code",
   "execution_count": 54,
   "id": "f8361e92-4bff-4f0e-a8a2-9014d660c25c",
   "metadata": {},
   "outputs": [
    {
     "data": {
      "text/plain": [
       "True"
      ]
     },
     "execution_count": 54,
     "metadata": {},
     "output_type": "execute_result"
    }
   ],
   "source": [
    "# The result should be True\n",
    "nums_list_01 == nums_list_02"
   ]
  },
  {
   "cell_type": "code",
   "execution_count": 55,
   "id": "55bbab94-eff9-4dca-8d3b-0e7802da84d4",
   "metadata": {},
   "outputs": [
    {
     "data": {
      "text/plain": [
       "False"
      ]
     },
     "execution_count": 55,
     "metadata": {},
     "output_type": "execute_result"
    }
   ],
   "source": [
    "# The result should be False\n",
    "nums_list_01 is nums_list_02"
   ]
  },
  {
   "cell_type": "markdown",
   "id": "5b114275-7fbb-43c2-9125-a3f00c96e420",
   "metadata": {},
   "source": [
    "### Given a list `nums_list` , write a program to swap first and last elements in a list:\n",
    "> - Input : `[12, 35, 9, 56, 24]`\n",
    "> - Output : `[24, 35, 9, 56, 12]`"
   ]
  },
  {
   "cell_type": "code",
   "execution_count": 56,
   "id": "4c295ef6-18ba-4bb8-9bc1-4bc35b8e3e3f",
   "metadata": {
    "tags": []
   },
   "outputs": [],
   "source": [
    "nums_list = [12, 35, 9, 56, 24]"
   ]
  },
  {
   "cell_type": "code",
   "execution_count": 57,
   "id": "0dcf7013-38dd-465e-95e1-b3bae9704ddd",
   "metadata": {
    "tags": []
   },
   "outputs": [
    {
     "data": {
      "text/plain": [
       "[24, 35, 9, 56, 12]"
      ]
     },
     "execution_count": 57,
     "metadata": {},
     "output_type": "execute_result"
    }
   ],
   "source": [
    "# TODO\n",
    "nums_list[0],nums_list[4]=nums_list[4],nums_list[0]\n",
    "nums_list"
   ]
  },
  {
   "cell_type": "markdown",
   "id": "16816553-96bb-4126-8a45-9429db53022c",
   "metadata": {},
   "source": [
    "### Write a Python program to find second largest number in a list:\n",
    "> - Input: list1 =` [10, 20, 4]`\n",
    "> - Output: `10`"
   ]
  },
  {
   "cell_type": "code",
   "execution_count": 58,
   "id": "0be56a64-2c9f-46fa-b8c7-0827d0fd9ed3",
   "metadata": {},
   "outputs": [],
   "source": [
    "nums_list = [10, 20, 4]"
   ]
  },
  {
   "cell_type": "code",
   "execution_count": 59,
   "id": "ac83789f-4953-4801-bb8b-300f60c65a07",
   "metadata": {},
   "outputs": [
    {
     "data": {
      "text/plain": [
       "10"
      ]
     },
     "execution_count": 59,
     "metadata": {},
     "output_type": "execute_result"
    }
   ],
   "source": [
    "# TODO\n",
    "nums_list = [10, 20, 4]\n",
    "sorted(nums_list, reverse=True)[1]"
   ]
  },
  {
   "cell_type": "markdown",
   "id": "f46b8cd0-06ca-4954-94f7-c4790d0710ba",
   "metadata": {},
   "source": [
    "### Write a Python program to print all negative numbers in a range (from `a` to `b`):\n",
    "> - Input: `a = -4`, `b = 5`\n",
    "> - Output: `-4, -3, -2, -1`"
   ]
  },
  {
   "cell_type": "code",
   "execution_count": 60,
   "id": "83797806-251b-4558-a14c-1902d92261f4",
   "metadata": {
    "tags": []
   },
   "outputs": [],
   "source": [
    "a, b = -4, 5"
   ]
  },
  {
   "cell_type": "code",
   "execution_count": 62,
   "id": "c9a37290-6320-4edb-b7fc-dc523aa67c7f",
   "metadata": {},
   "outputs": [
    {
     "name": "stdout",
     "output_type": "stream",
     "text": [
      "[-4, -3, -2, -1, 0]\n"
     ]
    }
   ],
   "source": [
    "# TODO\n",
    "nums_list=list(range(-4,5))\n",
    "nums_list\n",
    "\n",
    "# to_print_all_negative_numbers_in_a_range_(from a to b)\n",
    "\n",
    "negative_list=[]\n",
    "for n in nums_list:\n",
    "    if (n<=0):\n",
    "        negative_list.append(n)\n",
    "print(negative_list)     "
   ]
  }
 ],
 "metadata": {
  "kernelspec": {
   "display_name": "Python 3",
   "language": "python",
   "name": "python3"
  },
  "language_info": {
   "codemirror_mode": {
    "name": "ipython",
    "version": 3
   },
   "file_extension": ".py",
   "mimetype": "text/x-python",
   "name": "python",
   "nbconvert_exporter": "python",
   "pygments_lexer": "ipython3",
   "version": "3.10.4"
  }
 },
 "nbformat": 4,
 "nbformat_minor": 5
}
